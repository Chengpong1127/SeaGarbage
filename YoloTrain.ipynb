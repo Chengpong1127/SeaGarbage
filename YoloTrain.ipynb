{
 "cells": [
  {
   "cell_type": "code",
   "execution_count": null,
   "metadata": {},
   "outputs": [],
   "source": [
    "from GarbageDataset import GarbageDataset, collate_fn\n",
    "from torch.utils.data import DataLoader\n",
    "from transformers import AutoImageProcessor, YolosModel, YolosForObjectDetection, YolosConfig\n",
    "import torch"
   ]
  },
  {
   "cell_type": "code",
   "execution_count": null,
   "metadata": {},
   "outputs": [],
   "source": [
    "# Test model\n",
    "dataset = GarbageDataset('hustvl/yolos-small', 'dataset/dataset_10000_update_0912.xml', 'dataset/參賽者訓練資料集下載(10000)/', (416, 416))\n",
    "dataloader = DataLoader(dataset, batch_size=4, shuffle=False, collate_fn=collate_fn)\n",
    "model = YolosForObjectDetection.from_pretrained('hustvl/yolos-small')\n",
    "for inputs, labels in dataloader:\n",
    "    print(inputs.shape)\n",
    "    print(labels)\n",
    "    outputs = model(inputs, labels = labels)\n",
    "    print(outputs.loss)\n",
    "    break"
   ]
  },
  {
   "cell_type": "code",
   "execution_count": null,
   "metadata": {},
   "outputs": [],
   "source": [
    "def label_to_device(labels, device):\n",
    "    for label in labels:\n",
    "        for key in label:\n",
    "            label[key] = label[key].to(device)\n",
    "    return labels"
   ]
  },
  {
   "cell_type": "code",
   "execution_count": null,
   "metadata": {},
   "outputs": [],
   "source": [
    "# Training Config\n",
    "model_name = 'hustvl/yolos-small'\n",
    "\n",
    "\n",
    "EPOCHS = 10\n",
    "\n",
    "batch_size = 4\n",
    "learning_rate = 0.001\n",
    "device = torch.device('cuda') if torch.cuda.is_available() else torch.device('cpu')\n",
    "\n",
    "image_size = (416, 416)"
   ]
  },
  {
   "cell_type": "code",
   "execution_count": null,
   "metadata": {},
   "outputs": [],
   "source": [
    "# Training\n",
    "dataset = GarbageDataset(model_name, 'dataset/dataset_10000_update_0912.xml', 'dataset/參賽者訓練資料集下載(10000)/', image_size)\n",
    "dataloader = DataLoader(dataset, batch_size=batch_size, shuffle=True, collate_fn=collate_fn)\n",
    "model = YolosForObjectDetection(YolosConfig.from_pretrained(model_name))\n",
    "optimizer = torch.optim.AdamW(model.parameters(), lr=learning_rate)\n",
    "\n",
    "\n",
    "model.to(device)\n",
    "for epoch in range(EPOCHS):\n",
    "    log_loss = 0\n",
    "    for inputs, labels in dataloader:\n",
    "        inputs = inputs.to(device)\n",
    "        labels = label_to_device(labels, device)\n",
    "        outputs = model(inputs, labels = labels)\n",
    "        optimizer.zero_grad()\n",
    "        loss = outputs.loss\n",
    "        loss.backward()\n",
    "        optimizer.step()\n",
    "        log_loss += loss.item()\n",
    "        print(loss.item())\n",
    "    print(f'Epoch: {epoch}, Loss: {log_loss/len(dataloader)}')\n",
    "    "
   ]
  }
 ],
 "metadata": {
  "kernelspec": {
   "display_name": "SeaGarbage",
   "language": "python",
   "name": "python3"
  },
  "language_info": {
   "codemirror_mode": {
    "name": "ipython",
    "version": 3
   },
   "file_extension": ".py",
   "mimetype": "text/x-python",
   "name": "python",
   "nbconvert_exporter": "python",
   "pygments_lexer": "ipython3",
   "version": "3.10.13"
  },
  "orig_nbformat": 4
 },
 "nbformat": 4,
 "nbformat_minor": 2
}
